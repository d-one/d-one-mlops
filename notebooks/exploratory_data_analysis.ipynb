{
 "cells": [
  {
   "cell_type": "markdown",
   "id": "5f3e3158",
   "metadata": {},
   "source": [
    "<center>\n",
    "<h1>The Full Machine Learning Lifecycle - How to Use Machine Learning in Production (MLOps)</h1>\n",
    "<hr>\n",
    "<h2>Exploratory Data Analysis</h2>\n",
    "<hr>\n",
    " </center>"
   ]
  },
  {
   "cell_type": "markdown",
   "id": "f45cbb0d",
   "metadata": {},
   "source": [
    "# Introduction\n",
    "We will start our end-to-end ML project with an exploratory data analysis to get more familiar with the data and to look for patterns in the data that may be useful for our classification task. In this notebook, we will examine the structure of the dataset, aspects of data quality, as well as data distribution and correlations between features. Let´s get started..."
   ]
  },
  {
   "cell_type": "code",
   "execution_count": null,
   "id": "38b2d49c",
   "metadata": {},
   "outputs": [],
   "source": [
    "import pandas as pd\n",
    "import numpy as np\n",
    "import os\n",
    "import sys\n",
    "import matplotlib.pyplot as plt\n",
    "import seaborn as sns\n",
    "sys.path.insert(1, os.path.join(sys.path[0], '..'))\n",
    "sys.path.append('/cd4ml/plugins/')\n",
    "\n",
    "from cd4ml.data_processing import get_data\n",
    "\n",
    "sns.set()\n",
    "%matplotlib inline"
   ]
  },
  {
   "cell_type": "markdown",
   "id": "8f053a87",
   "metadata": {},
   "source": [
    "# Getting the data"
   ]
  },
  {
   "cell_type": "code",
   "execution_count": null,
   "id": "06f564d4",
   "metadata": {},
   "outputs": [],
   "source": [
    "# paths and variables\n",
    "_raw_data_dir = '/data/batch1'   \n",
    "_data_dir = '/data/' "
   ]
  },
  {
   "cell_type": "code",
   "execution_count": null,
   "id": "4a25a23b",
   "metadata": {},
   "outputs": [],
   "source": [
    "# get the data from storage\n",
    "df = get_data(_raw_data_dir)"
   ]
  },
  {
   "cell_type": "markdown",
   "id": "87f2755d",
   "metadata": {
    "tags": []
   },
   "source": [
    "# Structure of the dataset\n",
    "Let's start our EDA by looking at the structure of the dataset."
   ]
  },
  {
   "cell_type": "code",
   "execution_count": null,
   "id": "f136b60c",
   "metadata": {},
   "outputs": [],
   "source": [
    "df.shape"
   ]
  },
  {
   "cell_type": "markdown",
   "id": "bc3277c9",
   "metadata": {},
   "source": [
    "As we can see, the dataset contains 52383 rows and 16 feature columns.\n",
    "\n",
    "The table below lists for each feature a short description, alongside its unit and data type."
   ]
  },
  {
   "cell_type": "markdown",
   "id": "e7d9d271",
   "metadata": {},
   "source": [
    "| Column name        | Description                                                                           | Unit | Data Type |\n",
    "|:-------------------|:--------------------------------------------------------------------------------------|:-----|:----------|\n",
    "| wt_sk              | Unique device identifier, equivalent to device name                             | -    | float     |\n",
    "| measured_at        | Data timestemp in UTC format                                                          | -    | string    |\n",
    "| wind_speed         | Average apparent wind speed measured by nacelle anemometer, normalised to rated value | m/s  | float     |\n",
    "| power              | Average measured power production, normalised to rated max power                      | W    | float     |\n",
    "| nacelle_direction  | Average position of nacelle relative to North (E=90°)                                 | °    | float     |\n",
    "| wind_direction     | Average direction of incoming wind relative to North (E=90°)                          | °    | float     |\n",
    "| rotor_speed        | Average revolutions per minute of the low speed rotor, normalised to rates RS         | -    | float     |\n",
    "| generator_speed    | Average revolutions per minute of the generator, normalised to rated GS               | -    | float     |\n",
    "| temp_environment   | Average outside temperature on nacelle height                                         | °C   | float     |\n",
    "| temp_hydraulic_oil | Average oil temperature                                                               | °C   | float     |\n",
    "| temp_gear_bearing  | Average gear temperature                                                              | °C   | float     |\n",
    "| cosphi             | Average power factor of device                                                        | -    | float     |\n",
    "| blade_angle_avg    | Average pitching angles, averaged over blades                                         | °    | float     |\n",
    "| hydraulic_pressure | Average pressure in hydraulic circuit                                                 | mBar | float     |\n",
    "| subtraction        | Error flag (NaN: no error, 0/1: error)                                                | -    | float     |\n",
    "| categories_sk      | Categorisation of error type                                                          | -    | float     |\n"
   ]
  },
  {
   "cell_type": "code",
   "execution_count": null,
   "id": "361843a3",
   "metadata": {},
   "outputs": [],
   "source": [
    "df.dtypes"
   ]
  },
  {
   "cell_type": "markdown",
   "id": "490e55e5",
   "metadata": {},
   "source": [
    "Of the 16 features, 15 are numerical. The only non-numerical column is the column `measured_at`. Let's first have a look at this one."
   ]
  },
  {
   "cell_type": "markdown",
   "id": "d1a5e68d",
   "metadata": {},
   "source": [
    "### Non-numerical features"
   ]
  },
  {
   "cell_type": "code",
   "execution_count": null,
   "id": "a3d75c84",
   "metadata": {},
   "outputs": [],
   "source": [
    "df['measured_at'].describe()"
   ]
  },
  {
   "cell_type": "markdown",
   "id": "1f3d760b",
   "metadata": {},
   "source": [
    "The feature `measured_at` represents the timestamp in UTC format corresponding to the measurement time. The number of unique entries is lower than the total count as the dataset contains entries for multiple wind turbines, recorded at the same time.\n",
    "\n",
    "Since we want to do row-level predictions, we will remove the timestamps from the analysis."
   ]
  },
  {
   "cell_type": "code",
   "execution_count": null,
   "id": "58962ecc",
   "metadata": {},
   "outputs": [],
   "source": [
    "df.drop(\"measured_at\", axis=1, inplace=True)"
   ]
  },
  {
   "cell_type": "markdown",
   "id": "3840a78b",
   "metadata": {},
   "source": [
    "### Numerical features"
   ]
  },
  {
   "cell_type": "markdown",
   "id": "126e55dd",
   "metadata": {},
   "source": [
    "Now, we will turn our attention to the numerical features. More specifically, we will look at the number of unique values for each feature."
   ]
  },
  {
   "cell_type": "code",
   "execution_count": null,
   "id": "f8bea9a5",
   "metadata": {},
   "outputs": [],
   "source": [
    "vals_unique = df.select_dtypes(include=\"number\").nunique().sort_values()\n",
    "print(vals_unique)"
   ]
  },
  {
   "cell_type": "markdown",
   "id": "864a76b7",
   "metadata": {},
   "source": [
    "We observe that `subtraction` is a binary feature. `wt_sk` and `categories_sk` appear to be ordinal, and the remaining features are of continuous nature. We thus have 3 categorical features and 12 continuous features."
   ]
  },
  {
   "cell_type": "markdown",
   "id": "799bb1ac",
   "metadata": {},
   "source": [
    "The feature `categories_sk` describes the type of error code of the wind turbine. This is the target which we want to predict. The feature `subtraction` indicates if an error code was received. Since this information is already contained in `categories_sk`, we will exlude `subtraction` from further analysis."
   ]
  },
  {
   "cell_type": "code",
   "execution_count": null,
   "id": "a8916300",
   "metadata": {},
   "outputs": [],
   "source": [
    "df.drop(\"subtraction\", axis=1, inplace=True)"
   ]
  },
  {
   "cell_type": "markdown",
   "id": "350b67fb",
   "metadata": {},
   "source": [
    "# Data quality\n",
    "Now, we will have a look at the quality of the dataset."
   ]
  },
  {
   "cell_type": "markdown",
   "id": "755d8c21",
   "metadata": {},
   "source": [
    "### Duplicate rows"
   ]
  },
  {
   "cell_type": "code",
   "execution_count": null,
   "id": "7b6afdea",
   "metadata": {},
   "outputs": [],
   "source": [
    "rows_duplicate = df.duplicated().sum()\n",
    "print(\"Number of duplicate rows:\", rows_duplicate)"
   ]
  },
  {
   "cell_type": "markdown",
   "id": "769adfa9",
   "metadata": {},
   "source": [
    "Great. No duplicates!"
   ]
  },
  {
   "cell_type": "markdown",
   "id": "2245b86d",
   "metadata": {},
   "source": [
    "### Missing values"
   ]
  },
  {
   "cell_type": "code",
   "execution_count": null,
   "id": "f60b7c09",
   "metadata": {},
   "outputs": [],
   "source": [
    "df.isna().mean().sort_values()"
   ]
  },
  {
   "cell_type": "markdown",
   "id": "3aec74b8",
   "metadata": {},
   "source": [
    "Most of the features are complete, but `categories_sk` has less than 5% non-nan entries. The reason for this is that normal operation (i.e. non-error) is encoded as `NaN`."
   ]
  },
  {
   "cell_type": "code",
   "execution_count": null,
   "id": "7b5b497e",
   "metadata": {},
   "outputs": [],
   "source": [
    "df[\"categories_sk\"].value_counts(dropna=False)"
   ]
  },
  {
   "cell_type": "markdown",
   "id": "7bf975ba",
   "metadata": {},
   "source": [
    "### Erroneous recordings\n",
    "Plotting each feature can help in identifying obvious data errors."
   ]
  },
  {
   "cell_type": "code",
   "execution_count": null,
   "id": "8c6c3f40",
   "metadata": {},
   "outputs": [],
   "source": [
    "df.plot(lw=0,\n",
    "       marker=\".\",\n",
    "       subplots=True,\n",
    "       layout=(-1, 3),\n",
    "       figsize=(15, 30),\n",
    "       markersize=1)\n",
    "plt.show()"
   ]
  },
  {
   "cell_type": "markdown",
   "id": "737a5c39",
   "metadata": {},
   "source": [
    "Nothing seems to be obsously wrong. It can be tricky to discern an outlier (which we want to keep) from a truly erroneous entry (such as a negative wind speed). However, there are certainly some interesting things to be noted here. This is, where we start looking at the content of the data."
   ]
  },
  {
   "cell_type": "markdown",
   "id": "8d12a612",
   "metadata": {
    "tags": []
   },
   "source": [
    "# Data content"
   ]
  },
  {
   "cell_type": "markdown",
   "id": "ffe11881",
   "metadata": {
    "tags": []
   },
   "source": [
    "### Feature correlations\n",
    "Let's have a look at how the features are correlated with each other."
   ]
  },
  {
   "cell_type": "code",
   "execution_count": null,
   "id": "d2b3ec3d",
   "metadata": {},
   "outputs": [],
   "source": [
    "feat_correlations = df.corr(method=\"pearson\")\n",
    "\n",
    "plt.figure(figsize=(16, 16))\n",
    "sns.heatmap(feat_correlations,\n",
    "           square=True,\n",
    "           center=0,\n",
    "            annot=np.round(feat_correlations,3),\n",
    "           fmt=\"\",\n",
    "           linewidths=.5,\n",
    "           cmap=\"vlag\",\n",
    "           cbar_kws={\"shrink\": 0.8})"
   ]
  },
  {
   "cell_type": "markdown",
   "id": "e6478f09",
   "metadata": {},
   "source": [
    "Some of the features seem to be strongly correlated, such as `rotor_speed` and `generator_speed`."
   ]
  },
  {
   "cell_type": "markdown",
   "id": "e5963ba3",
   "metadata": {},
   "source": [
    "Of special interest is of course the correlation with the target variable `categories_sk`."
   ]
  },
  {
   "cell_type": "code",
   "execution_count": null,
   "id": "4e8c0c5e",
   "metadata": {},
   "outputs": [],
   "source": [
    "feat_correlations[\"categories_sk\"].sort_values(ascending=False)"
   ]
  },
  {
   "cell_type": "markdown",
   "id": "8db1fc4c",
   "metadata": {},
   "source": [
    "# Summary\n",
    "This completes our Exploratory Data Analysis. You should now have a better understanding of the dataset and some first ideas what processing steps would be useful and which features might be informative for our classification task."
   ]
  }
 ],
 "metadata": {
  "kernelspec": {
   "display_name": "Python 3.8.5 ('base')",
   "language": "python",
   "name": "python3"
  },
  "language_info": {
   "codemirror_mode": {
    "name": "ipython",
    "version": 3
   },
   "file_extension": ".py",
   "mimetype": "text/x-python",
   "name": "python",
   "nbconvert_exporter": "python",
   "pygments_lexer": "ipython3",
   "version": "3.8.5"
  },
  "vscode": {
   "interpreter": {
    "hash": "99b442ceb651dc66ba81761fd767b29211a1436947b62f02b283c78cb5b2ffe7"
   }
  }
 },
 "nbformat": 4,
 "nbformat_minor": 5
}
